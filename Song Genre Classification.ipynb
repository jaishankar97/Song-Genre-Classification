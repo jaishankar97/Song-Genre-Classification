{
 "cells": [
  {
   "cell_type": "markdown",
   "id": "44872b7c",
   "metadata": {},
   "source": [
    "# Importing Libraries and Reading Data"
   ]
  },
  {
   "cell_type": "code",
   "execution_count": 82,
   "id": "e5c73ef8",
   "metadata": {},
   "outputs": [],
   "source": [
    "#Importing Libraries\n",
    "import numpy as np\n",
    "import pandas as pd\n",
    "import matplotlib.pyplot as plt\n",
    "import seaborn as sns\n",
    "from sklearn.preprocessing import StandardScaler\n",
    "from sklearn.decomposition import PCA\n",
    "from sklearn.model_selection import train_test_split, KFold, cross_val_score\n",
    "from sklearn.linear_model import LogisticRegression\n",
    "from sklearn.naive_bayes import GaussianNB\n",
    "from sklearn import svm\n",
    "from sklearn.tree import DecisionTreeClassifier\n",
    "from sklearn.ensemble import RandomForestClassifier\n",
    "from sklearn.metrics import confusion_matrix, classification_report\n",
    "\n",
    "%matplotlib inline"
   ]
  },
  {
   "cell_type": "code",
   "execution_count": 5,
   "id": "9a84030b",
   "metadata": {},
   "outputs": [],
   "source": [
    "#Reading metadata with genre labels\n",
    "tracks = pd.read_csv('fma-rock-vs-hiphop.csv')"
   ]
  },
  {
   "cell_type": "code",
   "execution_count": 6,
   "id": "44c8c9e4",
   "metadata": {},
   "outputs": [
    {
     "data": {
      "text/html": [
       "<div>\n",
       "<style scoped>\n",
       "    .dataframe tbody tr th:only-of-type {\n",
       "        vertical-align: middle;\n",
       "    }\n",
       "\n",
       "    .dataframe tbody tr th {\n",
       "        vertical-align: top;\n",
       "    }\n",
       "\n",
       "    .dataframe thead th {\n",
       "        text-align: right;\n",
       "    }\n",
       "</style>\n",
       "<table border=\"1\" class=\"dataframe\">\n",
       "  <thead>\n",
       "    <tr style=\"text-align: right;\">\n",
       "      <th></th>\n",
       "      <th>track_id</th>\n",
       "      <th>bit_rate</th>\n",
       "      <th>comments</th>\n",
       "      <th>composer</th>\n",
       "      <th>date_created</th>\n",
       "      <th>date_recorded</th>\n",
       "      <th>duration</th>\n",
       "      <th>favorites</th>\n",
       "      <th>genre_top</th>\n",
       "      <th>genres</th>\n",
       "      <th>...</th>\n",
       "      <th>information</th>\n",
       "      <th>interest</th>\n",
       "      <th>language_code</th>\n",
       "      <th>license</th>\n",
       "      <th>listens</th>\n",
       "      <th>lyricist</th>\n",
       "      <th>number</th>\n",
       "      <th>publisher</th>\n",
       "      <th>tags</th>\n",
       "      <th>title</th>\n",
       "    </tr>\n",
       "  </thead>\n",
       "  <tbody>\n",
       "    <tr>\n",
       "      <th>0</th>\n",
       "      <td>135</td>\n",
       "      <td>256000</td>\n",
       "      <td>1</td>\n",
       "      <td>NaN</td>\n",
       "      <td>2008-11-26 01:43:26</td>\n",
       "      <td>2008-11-26 00:00:00</td>\n",
       "      <td>837</td>\n",
       "      <td>0</td>\n",
       "      <td>Rock</td>\n",
       "      <td>[45, 58]</td>\n",
       "      <td>...</td>\n",
       "      <td>NaN</td>\n",
       "      <td>2484</td>\n",
       "      <td>en</td>\n",
       "      <td>Attribution-NonCommercial-ShareAlike 3.0 Inter...</td>\n",
       "      <td>1832</td>\n",
       "      <td>NaN</td>\n",
       "      <td>0</td>\n",
       "      <td>NaN</td>\n",
       "      <td>[]</td>\n",
       "      <td>Father's Day</td>\n",
       "    </tr>\n",
       "    <tr>\n",
       "      <th>1</th>\n",
       "      <td>136</td>\n",
       "      <td>256000</td>\n",
       "      <td>1</td>\n",
       "      <td>NaN</td>\n",
       "      <td>2008-11-26 01:43:35</td>\n",
       "      <td>2008-11-26 00:00:00</td>\n",
       "      <td>509</td>\n",
       "      <td>0</td>\n",
       "      <td>Rock</td>\n",
       "      <td>[45, 58]</td>\n",
       "      <td>...</td>\n",
       "      <td>NaN</td>\n",
       "      <td>1948</td>\n",
       "      <td>en</td>\n",
       "      <td>Attribution-NonCommercial-ShareAlike 3.0 Inter...</td>\n",
       "      <td>1498</td>\n",
       "      <td>NaN</td>\n",
       "      <td>0</td>\n",
       "      <td>NaN</td>\n",
       "      <td>[]</td>\n",
       "      <td>Peel Back The Mountain Sky</td>\n",
       "    </tr>\n",
       "    <tr>\n",
       "      <th>2</th>\n",
       "      <td>151</td>\n",
       "      <td>192000</td>\n",
       "      <td>0</td>\n",
       "      <td>NaN</td>\n",
       "      <td>2008-11-26 01:44:55</td>\n",
       "      <td>NaN</td>\n",
       "      <td>192</td>\n",
       "      <td>0</td>\n",
       "      <td>Rock</td>\n",
       "      <td>[25]</td>\n",
       "      <td>...</td>\n",
       "      <td>NaN</td>\n",
       "      <td>701</td>\n",
       "      <td>en</td>\n",
       "      <td>Attribution-NonCommercial-ShareAlike 3.0 Inter...</td>\n",
       "      <td>148</td>\n",
       "      <td>NaN</td>\n",
       "      <td>4</td>\n",
       "      <td>NaN</td>\n",
       "      <td>[]</td>\n",
       "      <td>Untitled 04</td>\n",
       "    </tr>\n",
       "    <tr>\n",
       "      <th>3</th>\n",
       "      <td>152</td>\n",
       "      <td>192000</td>\n",
       "      <td>0</td>\n",
       "      <td>NaN</td>\n",
       "      <td>2008-11-26 01:44:58</td>\n",
       "      <td>NaN</td>\n",
       "      <td>193</td>\n",
       "      <td>0</td>\n",
       "      <td>Rock</td>\n",
       "      <td>[25]</td>\n",
       "      <td>...</td>\n",
       "      <td>NaN</td>\n",
       "      <td>637</td>\n",
       "      <td>en</td>\n",
       "      <td>Attribution-NonCommercial-ShareAlike 3.0 Inter...</td>\n",
       "      <td>98</td>\n",
       "      <td>NaN</td>\n",
       "      <td>11</td>\n",
       "      <td>NaN</td>\n",
       "      <td>[]</td>\n",
       "      <td>Untitled 11</td>\n",
       "    </tr>\n",
       "    <tr>\n",
       "      <th>4</th>\n",
       "      <td>153</td>\n",
       "      <td>256000</td>\n",
       "      <td>0</td>\n",
       "      <td>Arc and Sender</td>\n",
       "      <td>2008-11-26 01:45:00</td>\n",
       "      <td>2008-11-26 00:00:00</td>\n",
       "      <td>405</td>\n",
       "      <td>5</td>\n",
       "      <td>Rock</td>\n",
       "      <td>[26]</td>\n",
       "      <td>...</td>\n",
       "      <td>NaN</td>\n",
       "      <td>354</td>\n",
       "      <td>en</td>\n",
       "      <td>Attribution-NonCommercial-NoDerivatives (aka M...</td>\n",
       "      <td>424</td>\n",
       "      <td>NaN</td>\n",
       "      <td>2</td>\n",
       "      <td>NaN</td>\n",
       "      <td>[]</td>\n",
       "      <td>Hundred-Year Flood</td>\n",
       "    </tr>\n",
       "  </tbody>\n",
       "</table>\n",
       "<p>5 rows × 21 columns</p>\n",
       "</div>"
      ],
      "text/plain": [
       "   track_id  bit_rate  comments        composer         date_created  \\\n",
       "0       135    256000         1             NaN  2008-11-26 01:43:26   \n",
       "1       136    256000         1             NaN  2008-11-26 01:43:35   \n",
       "2       151    192000         0             NaN  2008-11-26 01:44:55   \n",
       "3       152    192000         0             NaN  2008-11-26 01:44:58   \n",
       "4       153    256000         0  Arc and Sender  2008-11-26 01:45:00   \n",
       "\n",
       "         date_recorded  duration  favorites genre_top    genres  ...  \\\n",
       "0  2008-11-26 00:00:00       837          0      Rock  [45, 58]  ...   \n",
       "1  2008-11-26 00:00:00       509          0      Rock  [45, 58]  ...   \n",
       "2                  NaN       192          0      Rock      [25]  ...   \n",
       "3                  NaN       193          0      Rock      [25]  ...   \n",
       "4  2008-11-26 00:00:00       405          5      Rock      [26]  ...   \n",
       "\n",
       "  information interest  language_code  \\\n",
       "0         NaN     2484             en   \n",
       "1         NaN     1948             en   \n",
       "2         NaN      701             en   \n",
       "3         NaN      637             en   \n",
       "4         NaN      354             en   \n",
       "\n",
       "                                             license listens  lyricist number  \\\n",
       "0  Attribution-NonCommercial-ShareAlike 3.0 Inter...    1832       NaN      0   \n",
       "1  Attribution-NonCommercial-ShareAlike 3.0 Inter...    1498       NaN      0   \n",
       "2  Attribution-NonCommercial-ShareAlike 3.0 Inter...     148       NaN      4   \n",
       "3  Attribution-NonCommercial-ShareAlike 3.0 Inter...      98       NaN     11   \n",
       "4  Attribution-NonCommercial-NoDerivatives (aka M...     424       NaN      2   \n",
       "\n",
       "   publisher tags                       title  \n",
       "0        NaN   []                Father's Day  \n",
       "1        NaN   []  Peel Back The Mountain Sky  \n",
       "2        NaN   []                 Untitled 04  \n",
       "3        NaN   []                 Untitled 11  \n",
       "4        NaN   []          Hundred-Year Flood  \n",
       "\n",
       "[5 rows x 21 columns]"
      ]
     },
     "execution_count": 6,
     "metadata": {},
     "output_type": "execute_result"
    }
   ],
   "source": [
    "tracks.head()"
   ]
  },
  {
   "cell_type": "code",
   "execution_count": 8,
   "id": "af104b56",
   "metadata": {},
   "outputs": [],
   "source": [
    "#Reading track metris with features\n",
    "echonest_metrics = pd.read_json('echonest-metrics.json', precise_float=True)"
   ]
  },
  {
   "cell_type": "code",
   "execution_count": 9,
   "id": "f12a6a17",
   "metadata": {},
   "outputs": [],
   "source": [
    "echo_tracks = echonest_metrics.merge(tracks[['genre_top', 'track_id']], on = 'track_id')"
   ]
  },
  {
   "cell_type": "code",
   "execution_count": 10,
   "id": "1fe078d4",
   "metadata": {},
   "outputs": [
    {
     "data": {
      "text/html": [
       "<div>\n",
       "<style scoped>\n",
       "    .dataframe tbody tr th:only-of-type {\n",
       "        vertical-align: middle;\n",
       "    }\n",
       "\n",
       "    .dataframe tbody tr th {\n",
       "        vertical-align: top;\n",
       "    }\n",
       "\n",
       "    .dataframe thead th {\n",
       "        text-align: right;\n",
       "    }\n",
       "</style>\n",
       "<table border=\"1\" class=\"dataframe\">\n",
       "  <thead>\n",
       "    <tr style=\"text-align: right;\">\n",
       "      <th></th>\n",
       "      <th>track_id</th>\n",
       "      <th>acousticness</th>\n",
       "      <th>danceability</th>\n",
       "      <th>energy</th>\n",
       "      <th>instrumentalness</th>\n",
       "      <th>liveness</th>\n",
       "      <th>speechiness</th>\n",
       "      <th>tempo</th>\n",
       "      <th>valence</th>\n",
       "      <th>genre_top</th>\n",
       "    </tr>\n",
       "  </thead>\n",
       "  <tbody>\n",
       "    <tr>\n",
       "      <th>0</th>\n",
       "      <td>2</td>\n",
       "      <td>0.416675</td>\n",
       "      <td>0.675894</td>\n",
       "      <td>0.634476</td>\n",
       "      <td>1.062807e-02</td>\n",
       "      <td>0.177647</td>\n",
       "      <td>0.159310</td>\n",
       "      <td>165.922</td>\n",
       "      <td>0.576661</td>\n",
       "      <td>Hip-Hop</td>\n",
       "    </tr>\n",
       "    <tr>\n",
       "      <th>1</th>\n",
       "      <td>3</td>\n",
       "      <td>0.374408</td>\n",
       "      <td>0.528643</td>\n",
       "      <td>0.817461</td>\n",
       "      <td>1.851103e-03</td>\n",
       "      <td>0.105880</td>\n",
       "      <td>0.461818</td>\n",
       "      <td>126.957</td>\n",
       "      <td>0.269240</td>\n",
       "      <td>Hip-Hop</td>\n",
       "    </tr>\n",
       "    <tr>\n",
       "      <th>2</th>\n",
       "      <td>5</td>\n",
       "      <td>0.043567</td>\n",
       "      <td>0.745566</td>\n",
       "      <td>0.701470</td>\n",
       "      <td>6.967990e-04</td>\n",
       "      <td>0.373143</td>\n",
       "      <td>0.124595</td>\n",
       "      <td>100.260</td>\n",
       "      <td>0.621661</td>\n",
       "      <td>Hip-Hop</td>\n",
       "    </tr>\n",
       "    <tr>\n",
       "      <th>3</th>\n",
       "      <td>134</td>\n",
       "      <td>0.452217</td>\n",
       "      <td>0.513238</td>\n",
       "      <td>0.560410</td>\n",
       "      <td>1.944269e-02</td>\n",
       "      <td>0.096567</td>\n",
       "      <td>0.525519</td>\n",
       "      <td>114.290</td>\n",
       "      <td>0.894072</td>\n",
       "      <td>Hip-Hop</td>\n",
       "    </tr>\n",
       "    <tr>\n",
       "      <th>4</th>\n",
       "      <td>153</td>\n",
       "      <td>0.988306</td>\n",
       "      <td>0.255661</td>\n",
       "      <td>0.979774</td>\n",
       "      <td>9.730057e-01</td>\n",
       "      <td>0.121342</td>\n",
       "      <td>0.051740</td>\n",
       "      <td>90.241</td>\n",
       "      <td>0.034018</td>\n",
       "      <td>Rock</td>\n",
       "    </tr>\n",
       "    <tr>\n",
       "      <th>...</th>\n",
       "      <td>...</td>\n",
       "      <td>...</td>\n",
       "      <td>...</td>\n",
       "      <td>...</td>\n",
       "      <td>...</td>\n",
       "      <td>...</td>\n",
       "      <td>...</td>\n",
       "      <td>...</td>\n",
       "      <td>...</td>\n",
       "      <td>...</td>\n",
       "    </tr>\n",
       "    <tr>\n",
       "      <th>4797</th>\n",
       "      <td>124718</td>\n",
       "      <td>0.412194</td>\n",
       "      <td>0.686825</td>\n",
       "      <td>0.849309</td>\n",
       "      <td>6.000000e-10</td>\n",
       "      <td>0.867543</td>\n",
       "      <td>0.367315</td>\n",
       "      <td>96.104</td>\n",
       "      <td>0.692414</td>\n",
       "      <td>Hip-Hop</td>\n",
       "    </tr>\n",
       "    <tr>\n",
       "      <th>4798</th>\n",
       "      <td>124719</td>\n",
       "      <td>0.054973</td>\n",
       "      <td>0.617535</td>\n",
       "      <td>0.728567</td>\n",
       "      <td>7.215700e-06</td>\n",
       "      <td>0.131438</td>\n",
       "      <td>0.243130</td>\n",
       "      <td>96.262</td>\n",
       "      <td>0.399720</td>\n",
       "      <td>Hip-Hop</td>\n",
       "    </tr>\n",
       "    <tr>\n",
       "      <th>4799</th>\n",
       "      <td>124720</td>\n",
       "      <td>0.010478</td>\n",
       "      <td>0.652483</td>\n",
       "      <td>0.657498</td>\n",
       "      <td>7.098000e-07</td>\n",
       "      <td>0.701523</td>\n",
       "      <td>0.229174</td>\n",
       "      <td>94.885</td>\n",
       "      <td>0.432240</td>\n",
       "      <td>Hip-Hop</td>\n",
       "    </tr>\n",
       "    <tr>\n",
       "      <th>4800</th>\n",
       "      <td>124721</td>\n",
       "      <td>0.067906</td>\n",
       "      <td>0.432421</td>\n",
       "      <td>0.764508</td>\n",
       "      <td>1.625500e-06</td>\n",
       "      <td>0.104412</td>\n",
       "      <td>0.310553</td>\n",
       "      <td>171.329</td>\n",
       "      <td>0.580087</td>\n",
       "      <td>Hip-Hop</td>\n",
       "    </tr>\n",
       "    <tr>\n",
       "      <th>4801</th>\n",
       "      <td>124722</td>\n",
       "      <td>0.153518</td>\n",
       "      <td>0.638660</td>\n",
       "      <td>0.762567</td>\n",
       "      <td>5.000000e-10</td>\n",
       "      <td>0.264847</td>\n",
       "      <td>0.303372</td>\n",
       "      <td>77.842</td>\n",
       "      <td>0.656612</td>\n",
       "      <td>Hip-Hop</td>\n",
       "    </tr>\n",
       "  </tbody>\n",
       "</table>\n",
       "<p>4802 rows × 10 columns</p>\n",
       "</div>"
      ],
      "text/plain": [
       "      track_id  acousticness  danceability    energy  instrumentalness  \\\n",
       "0            2      0.416675      0.675894  0.634476      1.062807e-02   \n",
       "1            3      0.374408      0.528643  0.817461      1.851103e-03   \n",
       "2            5      0.043567      0.745566  0.701470      6.967990e-04   \n",
       "3          134      0.452217      0.513238  0.560410      1.944269e-02   \n",
       "4          153      0.988306      0.255661  0.979774      9.730057e-01   \n",
       "...        ...           ...           ...       ...               ...   \n",
       "4797    124718      0.412194      0.686825  0.849309      6.000000e-10   \n",
       "4798    124719      0.054973      0.617535  0.728567      7.215700e-06   \n",
       "4799    124720      0.010478      0.652483  0.657498      7.098000e-07   \n",
       "4800    124721      0.067906      0.432421  0.764508      1.625500e-06   \n",
       "4801    124722      0.153518      0.638660  0.762567      5.000000e-10   \n",
       "\n",
       "      liveness  speechiness    tempo   valence genre_top  \n",
       "0     0.177647     0.159310  165.922  0.576661   Hip-Hop  \n",
       "1     0.105880     0.461818  126.957  0.269240   Hip-Hop  \n",
       "2     0.373143     0.124595  100.260  0.621661   Hip-Hop  \n",
       "3     0.096567     0.525519  114.290  0.894072   Hip-Hop  \n",
       "4     0.121342     0.051740   90.241  0.034018      Rock  \n",
       "...        ...          ...      ...       ...       ...  \n",
       "4797  0.867543     0.367315   96.104  0.692414   Hip-Hop  \n",
       "4798  0.131438     0.243130   96.262  0.399720   Hip-Hop  \n",
       "4799  0.701523     0.229174   94.885  0.432240   Hip-Hop  \n",
       "4800  0.104412     0.310553  171.329  0.580087   Hip-Hop  \n",
       "4801  0.264847     0.303372   77.842  0.656612   Hip-Hop  \n",
       "\n",
       "[4802 rows x 10 columns]"
      ]
     },
     "execution_count": 10,
     "metadata": {},
     "output_type": "execute_result"
    }
   ],
   "source": [
    "#Main dataset to work on\n",
    "echo_tracks"
   ]
  },
  {
   "cell_type": "code",
   "execution_count": 11,
   "id": "efea1f8d",
   "metadata": {},
   "outputs": [
    {
     "name": "stdout",
     "output_type": "stream",
     "text": [
      "<class 'pandas.core.frame.DataFrame'>\n",
      "Int64Index: 4802 entries, 0 to 4801\n",
      "Data columns (total 10 columns):\n",
      " #   Column            Non-Null Count  Dtype  \n",
      "---  ------            --------------  -----  \n",
      " 0   track_id          4802 non-null   int64  \n",
      " 1   acousticness      4802 non-null   float64\n",
      " 2   danceability      4802 non-null   float64\n",
      " 3   energy            4802 non-null   float64\n",
      " 4   instrumentalness  4802 non-null   float64\n",
      " 5   liveness          4802 non-null   float64\n",
      " 6   speechiness       4802 non-null   float64\n",
      " 7   tempo             4802 non-null   float64\n",
      " 8   valence           4802 non-null   float64\n",
      " 9   genre_top         4802 non-null   object \n",
      "dtypes: float64(8), int64(1), object(1)\n",
      "memory usage: 412.7+ KB\n"
     ]
    }
   ],
   "source": [
    "#Inspecting the new dataframe\n",
    "echo_tracks.info()"
   ]
  },
  {
   "cell_type": "markdown",
   "id": "1eb62926",
   "metadata": {},
   "source": [
    "# Finding Relationship Among Continuous Variables"
   ]
  },
  {
   "cell_type": "markdown",
   "id": "bb77562e",
   "metadata": {},
   "source": [
    "To avoid using variables which have strong relation with other variables, using correlation to find strong variables and reduce the number of columns avoiding feature redundancy as: more number of features may result in overfitting and delay the computation time."
   ]
  },
  {
   "cell_type": "code",
   "execution_count": 19,
   "id": "4694baf0",
   "metadata": {},
   "outputs": [
    {
     "data": {
      "text/html": [
       "<style  type=\"text/css\" >\n",
       "#T_0b063_row0_col0,#T_0b063_row1_col1,#T_0b063_row2_col2,#T_0b063_row3_col3,#T_0b063_row4_col4,#T_0b063_row5_col5,#T_0b063_row6_col6,#T_0b063_row7_col7,#T_0b063_row8_col8{\n",
       "            background-color:  #014636;\n",
       "            color:  #f1f1f1;\n",
       "        }#T_0b063_row0_col1,#T_0b063_row1_col0,#T_0b063_row1_col3,#T_0b063_row2_col5,#T_0b063_row2_col7,#T_0b063_row4_col2,#T_0b063_row4_col6,#T_0b063_row4_col8,#T_0b063_row6_col4{\n",
       "            background-color:  #fff7fb;\n",
       "            color:  #000000;\n",
       "        }#T_0b063_row0_col2,#T_0b063_row4_col3{\n",
       "            background-color:  #d2d2e7;\n",
       "            color:  #000000;\n",
       "        }#T_0b063_row0_col3{\n",
       "            background-color:  #b5c4df;\n",
       "            color:  #000000;\n",
       "        }#T_0b063_row0_col4,#T_0b063_row3_col1{\n",
       "            background-color:  #f5ecf5;\n",
       "            color:  #000000;\n",
       "        }#T_0b063_row0_col5{\n",
       "            background-color:  #e9e0ef;\n",
       "            color:  #000000;\n",
       "        }#T_0b063_row0_col6,#T_0b063_row8_col3{\n",
       "            background-color:  #d1d1e6;\n",
       "            color:  #000000;\n",
       "        }#T_0b063_row0_col7,#T_0b063_row1_col7{\n",
       "            background-color:  #e1dcec;\n",
       "            color:  #000000;\n",
       "        }#T_0b063_row0_col8,#T_0b063_row3_col6{\n",
       "            background-color:  #ded9eb;\n",
       "            color:  #000000;\n",
       "        }#T_0b063_row1_col2{\n",
       "            background-color:  #e0daec;\n",
       "            color:  #000000;\n",
       "        }#T_0b063_row1_col4,#T_0b063_row4_col1{\n",
       "            background-color:  #93b7d7;\n",
       "            color:  #000000;\n",
       "        }#T_0b063_row1_col5,#T_0b063_row2_col4{\n",
       "            background-color:  #f3eaf4;\n",
       "            color:  #000000;\n",
       "        }#T_0b063_row1_col6,#T_0b063_row6_col1{\n",
       "            background-color:  #b8c6e0;\n",
       "            color:  #000000;\n",
       "        }#T_0b063_row1_col8{\n",
       "            background-color:  #e2dced;\n",
       "            color:  #000000;\n",
       "        }#T_0b063_row2_col0,#T_0b063_row5_col0,#T_0b063_row5_col3{\n",
       "            background-color:  #bdc8e1;\n",
       "            color:  #000000;\n",
       "        }#T_0b063_row2_col1,#T_0b063_row6_col0,#T_0b063_row7_col0,#T_0b063_row7_col1{\n",
       "            background-color:  #d0d1e6;\n",
       "            color:  #000000;\n",
       "        }#T_0b063_row2_col3{\n",
       "            background-color:  #fbf2f9;\n",
       "            color:  #000000;\n",
       "        }#T_0b063_row2_col6{\n",
       "            background-color:  #76aed2;\n",
       "            color:  #000000;\n",
       "        }#T_0b063_row2_col8{\n",
       "            background-color:  #4c9bc7;\n",
       "            color:  #000000;\n",
       "        }#T_0b063_row3_col0,#T_0b063_row7_col3{\n",
       "            background-color:  #a7bddb;\n",
       "            color:  #000000;\n",
       "        }#T_0b063_row3_col2,#T_0b063_row7_col2{\n",
       "            background-color:  #fef6fa;\n",
       "            color:  #000000;\n",
       "        }#T_0b063_row3_col4{\n",
       "            background-color:  #c4cbe3;\n",
       "            color:  #000000;\n",
       "        }#T_0b063_row3_col5,#T_0b063_row5_col7{\n",
       "            background-color:  #dcd8ea;\n",
       "            color:  #000000;\n",
       "        }#T_0b063_row3_col7{\n",
       "            background-color:  #adc1dd;\n",
       "            color:  #000000;\n",
       "        }#T_0b063_row3_col8,#T_0b063_row4_col7{\n",
       "            background-color:  #d9d6e9;\n",
       "            color:  #000000;\n",
       "        }#T_0b063_row4_col0{\n",
       "            background-color:  #f4ebf5;\n",
       "            color:  #000000;\n",
       "        }#T_0b063_row4_col5{\n",
       "            background-color:  #fdf5fa;\n",
       "            color:  #000000;\n",
       "        }#T_0b063_row5_col1{\n",
       "            background-color:  #ced0e6;\n",
       "            color:  #000000;\n",
       "        }#T_0b063_row5_col2{\n",
       "            background-color:  #ede3f1;\n",
       "            color:  #000000;\n",
       "        }#T_0b063_row5_col4,#T_0b063_row6_col7{\n",
       "            background-color:  #dbd8ea;\n",
       "            color:  #000000;\n",
       "        }#T_0b063_row5_col6{\n",
       "            background-color:  #c0c9e2;\n",
       "            color:  #000000;\n",
       "        }#T_0b063_row5_col8{\n",
       "            background-color:  #e8e0ef;\n",
       "            color:  #000000;\n",
       "        }#T_0b063_row6_col2{\n",
       "            background-color:  #8eb5d6;\n",
       "            color:  #000000;\n",
       "        }#T_0b063_row6_col3,#T_0b063_row6_col5{\n",
       "            background-color:  #eae1ef;\n",
       "            color:  #000000;\n",
       "        }#T_0b063_row6_col8{\n",
       "            background-color:  #bfc9e1;\n",
       "            color:  #000000;\n",
       "        }#T_0b063_row7_col4{\n",
       "            background-color:  #c5cce3;\n",
       "            color:  #000000;\n",
       "        }#T_0b063_row7_col5{\n",
       "            background-color:  #f0e7f2;\n",
       "            color:  #000000;\n",
       "        }#T_0b063_row7_col6{\n",
       "            background-color:  #c8cde4;\n",
       "            color:  #000000;\n",
       "        }#T_0b063_row7_col8{\n",
       "            background-color:  #d6d5e8;\n",
       "            color:  #000000;\n",
       "        }#T_0b063_row8_col0{\n",
       "            background-color:  #c6cce3;\n",
       "            color:  #000000;\n",
       "        }#T_0b063_row8_col1{\n",
       "            background-color:  #cdd0e5;\n",
       "            color:  #000000;\n",
       "        }#T_0b063_row8_col2{\n",
       "            background-color:  #4799c5;\n",
       "            color:  #000000;\n",
       "        }#T_0b063_row8_col4{\n",
       "            background-color:  #efe5f2;\n",
       "            color:  #000000;\n",
       "        }#T_0b063_row8_col5{\n",
       "            background-color:  #f7eef6;\n",
       "            color:  #000000;\n",
       "        }#T_0b063_row8_col6{\n",
       "            background-color:  #a5bddb;\n",
       "            color:  #000000;\n",
       "        }#T_0b063_row8_col7{\n",
       "            background-color:  #d3d3e7;\n",
       "            color:  #000000;\n",
       "        }</style><table id=\"T_0b063_\" ><thead>    <tr>        <th class=\"blank level0\" ></th>        <th class=\"col_heading level0 col0\" >track_id</th>        <th class=\"col_heading level0 col1\" >acousticness</th>        <th class=\"col_heading level0 col2\" >danceability</th>        <th class=\"col_heading level0 col3\" >energy</th>        <th class=\"col_heading level0 col4\" >instrumentalness</th>        <th class=\"col_heading level0 col5\" >liveness</th>        <th class=\"col_heading level0 col6\" >speechiness</th>        <th class=\"col_heading level0 col7\" >tempo</th>        <th class=\"col_heading level0 col8\" >valence</th>    </tr></thead><tbody>\n",
       "                <tr>\n",
       "                        <th id=\"T_0b063_level0_row0\" class=\"row_heading level0 row0\" >track_id</th>\n",
       "                        <td id=\"T_0b063_row0_col0\" class=\"data row0 col0\" >1.000000</td>\n",
       "                        <td id=\"T_0b063_row0_col1\" class=\"data row0 col1\" >-0.372282</td>\n",
       "                        <td id=\"T_0b063_row0_col2\" class=\"data row0 col2\" >0.049454</td>\n",
       "                        <td id=\"T_0b063_row0_col3\" class=\"data row0 col3\" >0.140703</td>\n",
       "                        <td id=\"T_0b063_row0_col4\" class=\"data row0 col4\" >-0.275623</td>\n",
       "                        <td id=\"T_0b063_row0_col5\" class=\"data row0 col5\" >0.048231</td>\n",
       "                        <td id=\"T_0b063_row0_col6\" class=\"data row0 col6\" >-0.026995</td>\n",
       "                        <td id=\"T_0b063_row0_col7\" class=\"data row0 col7\" >-0.025392</td>\n",
       "                        <td id=\"T_0b063_row0_col8\" class=\"data row0 col8\" >0.010070</td>\n",
       "            </tr>\n",
       "            <tr>\n",
       "                        <th id=\"T_0b063_level0_row1\" class=\"row_heading level0 row1\" >acousticness</th>\n",
       "                        <td id=\"T_0b063_row1_col0\" class=\"data row1 col0\" >-0.372282</td>\n",
       "                        <td id=\"T_0b063_row1_col1\" class=\"data row1 col1\" >1.000000</td>\n",
       "                        <td id=\"T_0b063_row1_col2\" class=\"data row1 col2\" >-0.028954</td>\n",
       "                        <td id=\"T_0b063_row1_col3\" class=\"data row1 col3\" >-0.281619</td>\n",
       "                        <td id=\"T_0b063_row1_col4\" class=\"data row1 col4\" >0.194780</td>\n",
       "                        <td id=\"T_0b063_row1_col5\" class=\"data row1 col5\" >-0.019991</td>\n",
       "                        <td id=\"T_0b063_row1_col6\" class=\"data row1 col6\" >0.072204</td>\n",
       "                        <td id=\"T_0b063_row1_col7\" class=\"data row1 col7\" >-0.026310</td>\n",
       "                        <td id=\"T_0b063_row1_col8\" class=\"data row1 col8\" >-0.013841</td>\n",
       "            </tr>\n",
       "            <tr>\n",
       "                        <th id=\"T_0b063_level0_row2\" class=\"row_heading level0 row2\" >danceability</th>\n",
       "                        <td id=\"T_0b063_row2_col0\" class=\"data row2 col0\" >0.049454</td>\n",
       "                        <td id=\"T_0b063_row2_col1\" class=\"data row2 col1\" >-0.028954</td>\n",
       "                        <td id=\"T_0b063_row2_col2\" class=\"data row2 col2\" >1.000000</td>\n",
       "                        <td id=\"T_0b063_row2_col3\" class=\"data row2 col3\" >-0.242032</td>\n",
       "                        <td id=\"T_0b063_row2_col4\" class=\"data row2 col4\" >-0.255217</td>\n",
       "                        <td id=\"T_0b063_row2_col5\" class=\"data row2 col5\" >-0.106584</td>\n",
       "                        <td id=\"T_0b063_row2_col6\" class=\"data row2 col6\" >0.276206</td>\n",
       "                        <td id=\"T_0b063_row2_col7\" class=\"data row2 col7\" >-0.242089</td>\n",
       "                        <td id=\"T_0b063_row2_col8\" class=\"data row2 col8\" >0.473165</td>\n",
       "            </tr>\n",
       "            <tr>\n",
       "                        <th id=\"T_0b063_level0_row3\" class=\"row_heading level0 row3\" >energy</th>\n",
       "                        <td id=\"T_0b063_row3_col0\" class=\"data row3 col0\" >0.140703</td>\n",
       "                        <td id=\"T_0b063_row3_col1\" class=\"data row3 col1\" >-0.281619</td>\n",
       "                        <td id=\"T_0b063_row3_col2\" class=\"data row3 col2\" >-0.242032</td>\n",
       "                        <td id=\"T_0b063_row3_col3\" class=\"data row3 col3\" >1.000000</td>\n",
       "                        <td id=\"T_0b063_row3_col4\" class=\"data row3 col4\" >0.028238</td>\n",
       "                        <td id=\"T_0b063_row3_col5\" class=\"data row3 col5\" >0.113331</td>\n",
       "                        <td id=\"T_0b063_row3_col6\" class=\"data row3 col6\" >-0.109983</td>\n",
       "                        <td id=\"T_0b063_row3_col7\" class=\"data row3 col7\" >0.195227</td>\n",
       "                        <td id=\"T_0b063_row3_col8\" class=\"data row3 col8\" >0.038603</td>\n",
       "            </tr>\n",
       "            <tr>\n",
       "                        <th id=\"T_0b063_level0_row4\" class=\"row_heading level0 row4\" >instrumentalness</th>\n",
       "                        <td id=\"T_0b063_row4_col0\" class=\"data row4 col0\" >-0.275623</td>\n",
       "                        <td id=\"T_0b063_row4_col1\" class=\"data row4 col1\" >0.194780</td>\n",
       "                        <td id=\"T_0b063_row4_col2\" class=\"data row4 col2\" >-0.255217</td>\n",
       "                        <td id=\"T_0b063_row4_col3\" class=\"data row4 col3\" >0.028238</td>\n",
       "                        <td id=\"T_0b063_row4_col4\" class=\"data row4 col4\" >1.000000</td>\n",
       "                        <td id=\"T_0b063_row4_col5\" class=\"data row4 col5\" >-0.091022</td>\n",
       "                        <td id=\"T_0b063_row4_col6\" class=\"data row4 col6\" >-0.366762</td>\n",
       "                        <td id=\"T_0b063_row4_col7\" class=\"data row4 col7\" >0.022215</td>\n",
       "                        <td id=\"T_0b063_row4_col8\" class=\"data row4 col8\" >-0.219967</td>\n",
       "            </tr>\n",
       "            <tr>\n",
       "                        <th id=\"T_0b063_level0_row5\" class=\"row_heading level0 row5\" >liveness</th>\n",
       "                        <td id=\"T_0b063_row5_col0\" class=\"data row5 col0\" >0.048231</td>\n",
       "                        <td id=\"T_0b063_row5_col1\" class=\"data row5 col1\" >-0.019991</td>\n",
       "                        <td id=\"T_0b063_row5_col2\" class=\"data row5 col2\" >-0.106584</td>\n",
       "                        <td id=\"T_0b063_row5_col3\" class=\"data row5 col3\" >0.113331</td>\n",
       "                        <td id=\"T_0b063_row5_col4\" class=\"data row5 col4\" >-0.091022</td>\n",
       "                        <td id=\"T_0b063_row5_col5\" class=\"data row5 col5\" >1.000000</td>\n",
       "                        <td id=\"T_0b063_row5_col6\" class=\"data row5 col6\" >0.041173</td>\n",
       "                        <td id=\"T_0b063_row5_col7\" class=\"data row5 col7\" >0.002732</td>\n",
       "                        <td id=\"T_0b063_row5_col8\" class=\"data row5 col8\" >-0.045093</td>\n",
       "            </tr>\n",
       "            <tr>\n",
       "                        <th id=\"T_0b063_level0_row6\" class=\"row_heading level0 row6\" >speechiness</th>\n",
       "                        <td id=\"T_0b063_row6_col0\" class=\"data row6 col0\" >-0.026995</td>\n",
       "                        <td id=\"T_0b063_row6_col1\" class=\"data row6 col1\" >0.072204</td>\n",
       "                        <td id=\"T_0b063_row6_col2\" class=\"data row6 col2\" >0.276206</td>\n",
       "                        <td id=\"T_0b063_row6_col3\" class=\"data row6 col3\" >-0.109983</td>\n",
       "                        <td id=\"T_0b063_row6_col4\" class=\"data row6 col4\" >-0.366762</td>\n",
       "                        <td id=\"T_0b063_row6_col5\" class=\"data row6 col5\" >0.041173</td>\n",
       "                        <td id=\"T_0b063_row6_col6\" class=\"data row6 col6\" >1.000000</td>\n",
       "                        <td id=\"T_0b063_row6_col7\" class=\"data row6 col7\" >0.008241</td>\n",
       "                        <td id=\"T_0b063_row6_col8\" class=\"data row6 col8\" >0.149894</td>\n",
       "            </tr>\n",
       "            <tr>\n",
       "                        <th id=\"T_0b063_level0_row7\" class=\"row_heading level0 row7\" >tempo</th>\n",
       "                        <td id=\"T_0b063_row7_col0\" class=\"data row7 col0\" >-0.025392</td>\n",
       "                        <td id=\"T_0b063_row7_col1\" class=\"data row7 col1\" >-0.026310</td>\n",
       "                        <td id=\"T_0b063_row7_col2\" class=\"data row7 col2\" >-0.242089</td>\n",
       "                        <td id=\"T_0b063_row7_col3\" class=\"data row7 col3\" >0.195227</td>\n",
       "                        <td id=\"T_0b063_row7_col4\" class=\"data row7 col4\" >0.022215</td>\n",
       "                        <td id=\"T_0b063_row7_col5\" class=\"data row7 col5\" >0.002732</td>\n",
       "                        <td id=\"T_0b063_row7_col6\" class=\"data row7 col6\" >0.008241</td>\n",
       "                        <td id=\"T_0b063_row7_col7\" class=\"data row7 col7\" >1.000000</td>\n",
       "                        <td id=\"T_0b063_row7_col8\" class=\"data row7 col8\" >0.052221</td>\n",
       "            </tr>\n",
       "            <tr>\n",
       "                        <th id=\"T_0b063_level0_row8\" class=\"row_heading level0 row8\" >valence</th>\n",
       "                        <td id=\"T_0b063_row8_col0\" class=\"data row8 col0\" >0.010070</td>\n",
       "                        <td id=\"T_0b063_row8_col1\" class=\"data row8 col1\" >-0.013841</td>\n",
       "                        <td id=\"T_0b063_row8_col2\" class=\"data row8 col2\" >0.473165</td>\n",
       "                        <td id=\"T_0b063_row8_col3\" class=\"data row8 col3\" >0.038603</td>\n",
       "                        <td id=\"T_0b063_row8_col4\" class=\"data row8 col4\" >-0.219967</td>\n",
       "                        <td id=\"T_0b063_row8_col5\" class=\"data row8 col5\" >-0.045093</td>\n",
       "                        <td id=\"T_0b063_row8_col6\" class=\"data row8 col6\" >0.149894</td>\n",
       "                        <td id=\"T_0b063_row8_col7\" class=\"data row8 col7\" >0.052221</td>\n",
       "                        <td id=\"T_0b063_row8_col8\" class=\"data row8 col8\" >1.000000</td>\n",
       "            </tr>\n",
       "    </tbody></table>"
      ],
      "text/plain": [
       "<pandas.io.formats.style.Styler at 0x7fe8e90f94c0>"
      ]
     },
     "execution_count": 19,
     "metadata": {},
     "output_type": "execute_result"
    }
   ],
   "source": [
    "#Correlation between columns\n",
    "cor_mat = echo_tracks.corr()\n",
    "cor_mat.style.background_gradient(cmap='PuBuGn')"
   ]
  },
  {
   "cell_type": "code",
   "execution_count": 21,
   "id": "1022e006",
   "metadata": {},
   "outputs": [
    {
     "data": {
      "text/plain": [
       "[Text(0.5, 1.0, 'Correlation matrix of main echo tracks data')]"
      ]
     },
     "execution_count": 21,
     "metadata": {},
     "output_type": "execute_result"
    },
    {
     "data": {
      "image/png": "[encoded data removed]",
      "text/plain": [
       "<Figure size 1080x720 with 2 Axes>"
      ]
     },
     "metadata": {
      "needs_background": "light"
     },
     "output_type": "display_data"
    }
   ],
   "source": [
    "#Plotting Heatmap using Seaborn\n",
    "plt.figure(figsize=(15,10))\n",
    "heat = sns.heatmap(cor_mat, annot=True)\n",
    "heat.set(title = 'Correlation matrix of main echo tracks data')"
   ]
  },
  {
   "cell_type": "markdown",
   "id": "0d8683c5",
   "metadata": {},
   "source": [
    "# Normalising the data and Dimentionality Reduction"
   ]
  },
  {
   "cell_type": "markdown",
   "id": "2c965767",
   "metadata": {},
   "source": [
    "The above visualisations of correlation didn't showed strong correlation among features which makes it difficult to drop a column at random. To reduce the number of features, using a dimentionality reductino algorithm Principal Component Analysis (PCA). "
   ]
  },
  {
   "cell_type": "code",
   "execution_count": 23,
   "id": "4c0b1142",
   "metadata": {},
   "outputs": [
    {
     "data": {
      "text/html": [
       "<div>\n",
       "<style scoped>\n",
       "    .dataframe tbody tr th:only-of-type {\n",
       "        vertical-align: middle;\n",
       "    }\n",
       "\n",
       "    .dataframe tbody tr th {\n",
       "        vertical-align: top;\n",
       "    }\n",
       "\n",
       "    .dataframe thead th {\n",
       "        text-align: right;\n",
       "    }\n",
       "</style>\n",
       "<table border=\"1\" class=\"dataframe\">\n",
       "  <thead>\n",
       "    <tr style=\"text-align: right;\">\n",
       "      <th></th>\n",
       "      <th>track_id</th>\n",
       "      <th>acousticness</th>\n",
       "      <th>danceability</th>\n",
       "      <th>energy</th>\n",
       "      <th>instrumentalness</th>\n",
       "      <th>liveness</th>\n",
       "      <th>speechiness</th>\n",
       "      <th>tempo</th>\n",
       "      <th>valence</th>\n",
       "      <th>genre_top</th>\n",
       "    </tr>\n",
       "  </thead>\n",
       "  <tbody>\n",
       "    <tr>\n",
       "      <th>0</th>\n",
       "      <td>2</td>\n",
       "      <td>0.416675</td>\n",
       "      <td>0.675894</td>\n",
       "      <td>0.634476</td>\n",
       "      <td>0.010628</td>\n",
       "      <td>0.177647</td>\n",
       "      <td>0.159310</td>\n",
       "      <td>165.922</td>\n",
       "      <td>0.576661</td>\n",
       "      <td>Hip-Hop</td>\n",
       "    </tr>\n",
       "    <tr>\n",
       "      <th>1</th>\n",
       "      <td>3</td>\n",
       "      <td>0.374408</td>\n",
       "      <td>0.528643</td>\n",
       "      <td>0.817461</td>\n",
       "      <td>0.001851</td>\n",
       "      <td>0.105880</td>\n",
       "      <td>0.461818</td>\n",
       "      <td>126.957</td>\n",
       "      <td>0.269240</td>\n",
       "      <td>Hip-Hop</td>\n",
       "    </tr>\n",
       "    <tr>\n",
       "      <th>2</th>\n",
       "      <td>5</td>\n",
       "      <td>0.043567</td>\n",
       "      <td>0.745566</td>\n",
       "      <td>0.701470</td>\n",
       "      <td>0.000697</td>\n",
       "      <td>0.373143</td>\n",
       "      <td>0.124595</td>\n",
       "      <td>100.260</td>\n",
       "      <td>0.621661</td>\n",
       "      <td>Hip-Hop</td>\n",
       "    </tr>\n",
       "    <tr>\n",
       "      <th>3</th>\n",
       "      <td>134</td>\n",
       "      <td>0.452217</td>\n",
       "      <td>0.513238</td>\n",
       "      <td>0.560410</td>\n",
       "      <td>0.019443</td>\n",
       "      <td>0.096567</td>\n",
       "      <td>0.525519</td>\n",
       "      <td>114.290</td>\n",
       "      <td>0.894072</td>\n",
       "      <td>Hip-Hop</td>\n",
       "    </tr>\n",
       "    <tr>\n",
       "      <th>4</th>\n",
       "      <td>153</td>\n",
       "      <td>0.988306</td>\n",
       "      <td>0.255661</td>\n",
       "      <td>0.979774</td>\n",
       "      <td>0.973006</td>\n",
       "      <td>0.121342</td>\n",
       "      <td>0.051740</td>\n",
       "      <td>90.241</td>\n",
       "      <td>0.034018</td>\n",
       "      <td>Rock</td>\n",
       "    </tr>\n",
       "  </tbody>\n",
       "</table>\n",
       "</div>"
      ],
      "text/plain": [
       "   track_id  acousticness  danceability    energy  instrumentalness  liveness  \\\n",
       "0         2      0.416675      0.675894  0.634476          0.010628  0.177647   \n",
       "1         3      0.374408      0.528643  0.817461          0.001851  0.105880   \n",
       "2         5      0.043567      0.745566  0.701470          0.000697  0.373143   \n",
       "3       134      0.452217      0.513238  0.560410          0.019443  0.096567   \n",
       "4       153      0.988306      0.255661  0.979774          0.973006  0.121342   \n",
       "\n",
       "   speechiness    tempo   valence genre_top  \n",
       "0     0.159310  165.922  0.576661   Hip-Hop  \n",
       "1     0.461818  126.957  0.269240   Hip-Hop  \n",
       "2     0.124595  100.260  0.621661   Hip-Hop  \n",
       "3     0.525519  114.290  0.894072   Hip-Hop  \n",
       "4     0.051740   90.241  0.034018      Rock  "
      ]
     },
     "execution_count": 23,
     "metadata": {},
     "output_type": "execute_result"
    }
   ],
   "source": [
    "echo_tracks.head(5)"
   ]
  },
  {
   "cell_type": "code",
   "execution_count": 26,
   "id": "2205b7eb",
   "metadata": {},
   "outputs": [],
   "source": [
    "#Separating features and labels\n",
    "features = echo_tracks.iloc[:, 1:-1]\n",
    "labels = echo_tracks.iloc[:, -1]"
   ]
  },
  {
   "cell_type": "code",
   "execution_count": 28,
   "id": "5d5d11ba",
   "metadata": {},
   "outputs": [],
   "source": [
    "#Scaling features \n",
    "scalar = StandardScaler()\n",
    "scaled_train_features = scalar.fit_transform(features)"
   ]
  },
  {
   "cell_type": "code",
   "execution_count": 31,
   "id": "95defbd9",
   "metadata": {},
   "outputs": [
    {
     "data": {
      "text/plain": [
       "PCA()"
      ]
     },
     "execution_count": 31,
     "metadata": {},
     "output_type": "execute_result"
    }
   ],
   "source": [
    "#Applying PCA\n",
    "pca = PCA()\n",
    "pca.fit(scaled_train_features)"
   ]
  },
  {
   "cell_type": "markdown",
   "id": "13c87880",
   "metadata": {},
   "source": [
    "Explained variance ratio in PCA is the percentage of variance which is attributed by each of the selected components.\n",
    "\n",
    "Reference: https://towardsdatascience.com/dealing-with-highly-dimensional-data-using-principal-component-analysis-pca-fea1ca817fe6"
   ]
  },
  {
   "cell_type": "code",
   "execution_count": 32,
   "id": "d3927148",
   "metadata": {},
   "outputs": [
    {
     "data": {
      "text/plain": [
       "array([0.24297674, 0.18044316, 0.13650309, 0.12994089, 0.11056248,\n",
       "       0.08302245, 0.06923783, 0.04731336])"
      ]
     },
     "execution_count": 32,
     "metadata": {},
     "output_type": "execute_result"
    }
   ],
   "source": [
    "exp_variance = pca.explained_variance_ratio_\n",
    "exp_variance"
   ]
  },
  {
   "cell_type": "code",
   "execution_count": 50,
   "id": "424e4de7",
   "metadata": {},
   "outputs": [
    {
     "data": {
      "image/png": "[encoded data removed]",
      "text/plain": [
       "<Figure size 864x576 with 1 Axes>"
      ]
     },
     "metadata": {
      "needs_background": "light"
     },
     "output_type": "display_data"
    }
   ],
   "source": [
    "#Plotting the exp variance ratio\n",
    "# fig, ax = plt.subplots(figsize=(15,10))\n",
    "# ax.bar(range(pca.n_components_), exp_variance, aplha=0.5)\n",
    "# ax.set_xlabel('Principal Component')\n",
    "plt.figure(figsize=(12,8))\n",
    "plt.bar(range(0, len(exp_variance)), exp_variance, alpha=0.5, \n",
    "       align = 'center', label = 'Individual Explained Variance')\n",
    "plt.step(range(0, len(np.cumsum(exp_variance))), np.cumsum(exp_variance),\n",
    "        where='mid', label='Cumulative Explained Variance')\n",
    "plt.ylabel('Explained variance ratio', size=20)\n",
    "plt.xlabel('Principal component index', size=20)\n",
    "plt.legend(loc='best')\n",
    "plt.tight_layout()\n",
    "plt.show()"
   ]
  },
  {
   "cell_type": "code",
   "execution_count": 36,
   "id": "ff6eb6d6",
   "metadata": {},
   "outputs": [
    {
     "data": {
      "text/plain": [
       "array([0.24297674, 0.4234199 , 0.55992299, 0.68986388, 0.80042636,\n",
       "       0.88344881, 0.95268664, 1.        ])"
      ]
     },
     "execution_count": 36,
     "metadata": {},
     "output_type": "execute_result"
    }
   ],
   "source": [
    "#Calculating cumulative explained variance\n",
    "cum_exp_variance = np.cumsum(exp_variance)\n",
    "cum_exp_variance"
   ]
  },
  {
   "cell_type": "code",
   "execution_count": 43,
   "id": "b29568ab",
   "metadata": {},
   "outputs": [
    {
     "data": {
      "text/plain": [
       "<matplotlib.lines.Line2D at 0x7fe8ccc9eaf0>"
      ]
     },
     "execution_count": 43,
     "metadata": {},
     "output_type": "execute_result"
    },
    {
     "data": {
      "image/png": "[encoded data removed]",
      "text/plain": [
       "<Figure size 1080x720 with 1 Axes>"
      ]
     },
     "metadata": {
      "needs_background": "light"
     },
     "output_type": "display_data"
    }
   ],
   "source": [
    "fig, ax = plt.subplots(figsize=(15,10))\n",
    "ax.plot(cum_exp_variance)\n",
    "ax.axhline(y=0.85, linestyle='--')"
   ]
  },
  {
   "cell_type": "markdown",
   "id": "f3e740aa",
   "metadata": {},
   "source": [
    "Cutoff are arbitrary near 85 roughly so the figure at cutoff figure shows to choose n components for PCA as 6."
   ]
  },
  {
   "cell_type": "code",
   "execution_count": 44,
   "id": "92a16a6b",
   "metadata": {},
   "outputs": [],
   "source": [
    "n_components = 6\n",
    "\n",
    "#Again training PCA for the chosen number of components\n",
    "pca = PCA(n_components, random_state=10)\n",
    "pca.fit(scaled_train_features)\n",
    "pca_projection = pca.transform(scaled_train_features)"
   ]
  },
  {
   "cell_type": "markdown",
   "id": "53853906",
   "metadata": {},
   "source": [
    "# Classification Models"
   ]
  },
  {
   "cell_type": "markdown",
   "id": "bffcb38f",
   "metadata": {},
   "source": [
    "Since the problem is a classification problem, I'll be using the following Machine Learning algorithms for training and testing the data:\n",
    "\n",
    "1. Logistic Regression\n",
    "\n",
    "2. Naive Bayes \n",
    "\n",
    "3. SVM\n",
    "\n",
    "4. Decision Trees\n",
    "\n",
    "5. Random Forest"
   ]
  },
  {
   "cell_type": "code",
   "execution_count": 52,
   "id": "04114435",
   "metadata": {},
   "outputs": [],
   "source": [
    "#Splitting the data\n",
    "X_train, X_test, Y_train, Y_test = train_test_split(pca_projection, \n",
    "                                                    labels, random_state=10)"
   ]
  },
  {
   "cell_type": "code",
   "execution_count": 55,
   "id": "7a039ec2",
   "metadata": {},
   "outputs": [],
   "source": [
    "#Creating objects for classifiers\n",
    "lr = LogisticRegression(random_state=10)\n",
    "nb = GaussianNB()\n",
    "svm = svm.SVC(kernel='linear', random_state=10)\n",
    "dt = DecisionTreeClassifier(random_state=10)\n",
    "rf = RandomForestClassifier(random_state=10)"
   ]
  },
  {
   "cell_type": "code",
   "execution_count": 56,
   "id": "d29ad1cc",
   "metadata": {},
   "outputs": [
    {
     "data": {
      "text/plain": [
       "RandomForestClassifier(random_state=10)"
      ]
     },
     "execution_count": 56,
     "metadata": {},
     "output_type": "execute_result"
    }
   ],
   "source": [
    "#Fitting the training data to the classifiers objects\n",
    "lr.fit(X_train, Y_train)\n",
    "nb.fit(X_train, Y_train)\n",
    "svm.fit(X_train, Y_train)\n",
    "dt.fit(X_train, Y_train)\n",
    "rf.fit(X_train, Y_train)"
   ]
  },
  {
   "cell_type": "code",
   "execution_count": 57,
   "id": "52aac895",
   "metadata": {},
   "outputs": [],
   "source": [
    "#Predicting the test data to observe the performance\n",
    "lr_pred = lr.predict(X_test)\n",
    "nb_pred = nb.predict(X_test)\n",
    "svm_pred = svm.predict(X_test)\n",
    "dt_pred = dt.predict(X_test)\n",
    "rf_pred = rf.predict(X_test)"
   ]
  },
  {
   "cell_type": "code",
   "execution_count": 65,
   "id": "a636127e",
   "metadata": {},
   "outputs": [
    {
     "name": "stdout",
     "output_type": "stream",
     "text": [
      "\n",
      "Logistic Regression: \n",
      " [[128 107]\n",
      " [ 39 927]]\n",
      "\n",
      "Naive Bayes: \n",
      " [[131 104]\n",
      " [ 49 917]]\n",
      "\n",
      "Support Vector Machine: \n",
      " [[122 113]\n",
      " [ 31 935]]\n",
      "\n",
      "Decision Trees: \n",
      " [[140  95]\n",
      " [ 93 873]]\n",
      "\n",
      "Random Forest: \n",
      " [[142  93]\n",
      " [ 32 934]]\n"
     ]
    }
   ],
   "source": [
    "#Comparing confusion matrices\n",
    "print(\"\\nLogistic Regression: \\n\", confusion_matrix(Y_test, lr_pred))\n",
    "print(\"\\nNaive Bayes: \\n\", confusion_matrix(Y_test, nb_pred))\n",
    "print(\"\\nSupport Vector Machine: \\n\", confusion_matrix(Y_test, svm_pred))\n",
    "print(\"\\nDecision Trees: \\n\", confusion_matrix(Y_test, dt_pred))\n",
    "print(\"\\nRandom Forest: \\n\", confusion_matrix(Y_test, rf_pred))"
   ]
  },
  {
   "cell_type": "code",
   "execution_count": 66,
   "id": "52e2f9ed",
   "metadata": {},
   "outputs": [
    {
     "name": "stdout",
     "output_type": "stream",
     "text": [
      "\n",
      "Logistic Regression: \n",
      "               precision    recall  f1-score   support\n",
      "\n",
      "     Hip-Hop       0.77      0.54      0.64       235\n",
      "        Rock       0.90      0.96      0.93       966\n",
      "\n",
      "    accuracy                           0.88      1201\n",
      "   macro avg       0.83      0.75      0.78      1201\n",
      "weighted avg       0.87      0.88      0.87      1201\n",
      "\n",
      "\n",
      "Naive Bayes: \n",
      "               precision    recall  f1-score   support\n",
      "\n",
      "     Hip-Hop       0.73      0.56      0.63       235\n",
      "        Rock       0.90      0.95      0.92       966\n",
      "\n",
      "    accuracy                           0.87      1201\n",
      "   macro avg       0.81      0.75      0.78      1201\n",
      "weighted avg       0.86      0.87      0.87      1201\n",
      "\n",
      "\n",
      "Support Vector Machine: \n",
      "               precision    recall  f1-score   support\n",
      "\n",
      "     Hip-Hop       0.80      0.52      0.63       235\n",
      "        Rock       0.89      0.97      0.93       966\n",
      "\n",
      "    accuracy                           0.88      1201\n",
      "   macro avg       0.84      0.74      0.78      1201\n",
      "weighted avg       0.87      0.88      0.87      1201\n",
      "\n",
      "\n",
      "Decision Trees: \n",
      "               precision    recall  f1-score   support\n",
      "\n",
      "     Hip-Hop       0.60      0.60      0.60       235\n",
      "        Rock       0.90      0.90      0.90       966\n",
      "\n",
      "    accuracy                           0.84      1201\n",
      "   macro avg       0.75      0.75      0.75      1201\n",
      "weighted avg       0.84      0.84      0.84      1201\n",
      "\n",
      "\n",
      "Random Forest: \n",
      "               precision    recall  f1-score   support\n",
      "\n",
      "     Hip-Hop       0.82      0.60      0.69       235\n",
      "        Rock       0.91      0.97      0.94       966\n",
      "\n",
      "    accuracy                           0.90      1201\n",
      "   macro avg       0.86      0.79      0.82      1201\n",
      "weighted avg       0.89      0.90      0.89      1201\n",
      "\n"
     ]
    }
   ],
   "source": [
    "#Comparing classification reports\n",
    "print(\"\\nLogistic Regression: \\n\", classification_report(Y_test, lr_pred))\n",
    "print(\"\\nNaive Bayes: \\n\", classification_report(Y_test, nb_pred))\n",
    "print(\"\\nSupport Vector Machine: \\n\", classification_report(Y_test, svm_pred))\n",
    "print(\"\\nDecision Trees: \\n\", classification_report(Y_test, dt_pred))\n",
    "print(\"\\nRandom Forest: \\n\", classification_report(Y_test, rf_pred))"
   ]
  },
  {
   "cell_type": "markdown",
   "id": "bf013349",
   "metadata": {},
   "source": [
    "With the above reports and confusion matrices, we can observe that there is a difference in the precisions of both labels. This can be due to unbalanced data training one feature more as compared to the other. \n",
    "As there is not much difference to observe in the f1 scores of models, Random Forest has the hight percentafe of f1 score in predicting both features. "
   ]
  },
  {
   "cell_type": "markdown",
   "id": "95a3a4b5",
   "metadata": {},
   "source": [
    "# Balancing the Data"
   ]
  },
  {
   "cell_type": "code",
   "execution_count": 68,
   "id": "78b5c4f6",
   "metadata": {},
   "outputs": [],
   "source": [
    "#Subset of only hip-hop tracks\n",
    "hop_only = echo_tracks.loc[echo_tracks['genre_top'] == 'Hip-Hop']\n",
    "\n",
    "#Subset of only rock tracks\n",
    "rock_only = echo_tracks.loc[echo_tracks['genre_top'] == 'Rock']"
   ]
  },
  {
   "cell_type": "code",
   "execution_count": 70,
   "id": "511ef062",
   "metadata": {},
   "outputs": [],
   "source": [
    "#Sampling the rock songs to match the frequency of hip-hop songs. \n",
    "rock_only = rock_only.sample(hop_only.shape[0], random_state=10)"
   ]
  },
  {
   "cell_type": "code",
   "execution_count": 71,
   "id": "63bc010f",
   "metadata": {},
   "outputs": [],
   "source": [
    "#Concatenating the dataframes rock only and hop only\n",
    "rock_hop_bal = pd.concat([rock_only, hop_only])"
   ]
  },
  {
   "cell_type": "code",
   "execution_count": 74,
   "id": "de1e6146",
   "metadata": {},
   "outputs": [],
   "source": [
    "#Features of new dataset\n",
    "features = rock_hop_bal.iloc[:, 1:-1]\n",
    "\n",
    "#Labels of new dataset\n",
    "labels = rock_hop_bal.iloc[:, -1]"
   ]
  },
  {
   "cell_type": "markdown",
   "id": "f2403e08",
   "metadata": {},
   "source": [
    "# Applying PCA and training new Data"
   ]
  },
  {
   "cell_type": "code",
   "execution_count": 75,
   "id": "422d3afc",
   "metadata": {},
   "outputs": [],
   "source": [
    "pca_projection = pca.fit_transform(scalar.fit_transform(features))"
   ]
  },
  {
   "cell_type": "code",
   "execution_count": 76,
   "id": "00e67528",
   "metadata": {},
   "outputs": [],
   "source": [
    "#Splitting the data\n",
    "X_train, X_test, Y_train, Y_test = train_test_split(pca_projection, \n",
    "                                                    labels, random_state=10)"
   ]
  },
  {
   "cell_type": "code",
   "execution_count": 77,
   "id": "6efc54f8",
   "metadata": {},
   "outputs": [],
   "source": [
    "#Creating objects for classifiers\n",
    "lr = LogisticRegression(random_state=10)\n",
    "nb = GaussianNB()\n",
    "svm = svm.SVC(kernel='linear', random_state=10)\n",
    "dt = DecisionTreeClassifier(random_state=10)\n",
    "rf = RandomForestClassifier(random_state=10)"
   ]
  },
  {
   "cell_type": "code",
   "execution_count": 78,
   "id": "6bf405d6",
   "metadata": {},
   "outputs": [
    {
     "data": {
      "text/plain": [
       "RandomForestClassifier(random_state=10)"
      ]
     },
     "execution_count": 78,
     "metadata": {},
     "output_type": "execute_result"
    }
   ],
   "source": [
    "#Fitting the training data to the classifiers objects\n",
    "lr.fit(X_train, Y_train)\n",
    "nb.fit(X_train, Y_train)\n",
    "svm.fit(X_train, Y_train)\n",
    "dt.fit(X_train, Y_train)\n",
    "rf.fit(X_train, Y_train)"
   ]
  },
  {
   "cell_type": "code",
   "execution_count": 79,
   "id": "b0c448fe",
   "metadata": {},
   "outputs": [],
   "source": [
    "#Predicting the test data to observe the performance\n",
    "lr_pred = lr.predict(X_test)\n",
    "nb_pred = nb.predict(X_test)\n",
    "svm_pred = svm.predict(X_test)\n",
    "dt_pred = dt.predict(X_test)\n",
    "rf_pred = rf.predict(X_test)"
   ]
  },
  {
   "cell_type": "code",
   "execution_count": 80,
   "id": "03d89d33",
   "metadata": {},
   "outputs": [
    {
     "name": "stdout",
     "output_type": "stream",
     "text": [
      "\n",
      "Logistic Regression: \n",
      " [[183  47]\n",
      " [ 34 191]]\n",
      "\n",
      "Naive Bayes: \n",
      " [[189  41]\n",
      " [ 31 194]]\n",
      "\n",
      "Support Vector Machine: \n",
      " [[183  47]\n",
      " [ 34 191]]\n",
      "\n",
      "Decision Trees: \n",
      " [[169  61]\n",
      " [ 59 166]]\n",
      "\n",
      "Random Forest: \n",
      " [[187  43]\n",
      " [ 27 198]]\n"
     ]
    }
   ],
   "source": [
    "#Comparing confusion matrices\n",
    "print(\"\\nLogistic Regression: \\n\", confusion_matrix(Y_test, lr_pred))\n",
    "print(\"\\nNaive Bayes: \\n\", confusion_matrix(Y_test, nb_pred))\n",
    "print(\"\\nSupport Vector Machine: \\n\", confusion_matrix(Y_test, svm_pred))\n",
    "print(\"\\nDecision Trees: \\n\", confusion_matrix(Y_test, dt_pred))\n",
    "print(\"\\nRandom Forest: \\n\", confusion_matrix(Y_test, rf_pred))"
   ]
  },
  {
   "cell_type": "code",
   "execution_count": 81,
   "id": "fc8482a7",
   "metadata": {},
   "outputs": [
    {
     "name": "stdout",
     "output_type": "stream",
     "text": [
      "\n",
      "Logistic Regression: \n",
      "               precision    recall  f1-score   support\n",
      "\n",
      "     Hip-Hop       0.84      0.80      0.82       230\n",
      "        Rock       0.80      0.85      0.83       225\n",
      "\n",
      "    accuracy                           0.82       455\n",
      "   macro avg       0.82      0.82      0.82       455\n",
      "weighted avg       0.82      0.82      0.82       455\n",
      "\n",
      "\n",
      "Naive Bayes: \n",
      "               precision    recall  f1-score   support\n",
      "\n",
      "     Hip-Hop       0.86      0.82      0.84       230\n",
      "        Rock       0.83      0.86      0.84       225\n",
      "\n",
      "    accuracy                           0.84       455\n",
      "   macro avg       0.84      0.84      0.84       455\n",
      "weighted avg       0.84      0.84      0.84       455\n",
      "\n",
      "\n",
      "Support Vector Machine: \n",
      "               precision    recall  f1-score   support\n",
      "\n",
      "     Hip-Hop       0.84      0.80      0.82       230\n",
      "        Rock       0.80      0.85      0.83       225\n",
      "\n",
      "    accuracy                           0.82       455\n",
      "   macro avg       0.82      0.82      0.82       455\n",
      "weighted avg       0.82      0.82      0.82       455\n",
      "\n",
      "\n",
      "Decision Trees: \n",
      "               precision    recall  f1-score   support\n",
      "\n",
      "     Hip-Hop       0.74      0.73      0.74       230\n",
      "        Rock       0.73      0.74      0.73       225\n",
      "\n",
      "    accuracy                           0.74       455\n",
      "   macro avg       0.74      0.74      0.74       455\n",
      "weighted avg       0.74      0.74      0.74       455\n",
      "\n",
      "\n",
      "Random Forest: \n",
      "               precision    recall  f1-score   support\n",
      "\n",
      "     Hip-Hop       0.87      0.81      0.84       230\n",
      "        Rock       0.82      0.88      0.85       225\n",
      "\n",
      "    accuracy                           0.85       455\n",
      "   macro avg       0.85      0.85      0.85       455\n",
      "weighted avg       0.85      0.85      0.85       455\n",
      "\n"
     ]
    }
   ],
   "source": [
    "#Comparing classification reports\n",
    "print(\"\\nLogistic Regression: \\n\", classification_report(Y_test, lr_pred))\n",
    "print(\"\\nNaive Bayes: \\n\", classification_report(Y_test, nb_pred))\n",
    "print(\"\\nSupport Vector Machine: \\n\", classification_report(Y_test, svm_pred))\n",
    "print(\"\\nDecision Trees: \\n\", classification_report(Y_test, dt_pred))\n",
    "print(\"\\nRandom Forest: \\n\", classification_report(Y_test, rf_pred))"
   ]
  },
  {
   "cell_type": "markdown",
   "id": "cd05c433",
   "metadata": {},
   "source": [
    "As we can clearly observe the difference between new classification reports and the previous reports, after balancing the data the f1 scores for both labels are nearly same making the model more efficient on predicting labels. "
   ]
  },
  {
   "cell_type": "markdown",
   "id": "a9a96d3a",
   "metadata": {},
   "source": [
    "# Cross Validation Evaluation of models"
   ]
  },
  {
   "cell_type": "markdown",
   "id": "b9577f04",
   "metadata": {},
   "source": [
    "The splitting of dataset can also effect the model's performance, CV attempts to split the data in multiple ways and test on each splits. I have KFold CV as a cross validation algorithm. "
   ]
  },
  {
   "cell_type": "code",
   "execution_count": 83,
   "id": "b2869d3f",
   "metadata": {},
   "outputs": [],
   "source": [
    "#Declaring KFold object\n",
    "kf = KFold(10)"
   ]
  },
  {
   "cell_type": "code",
   "execution_count": 85,
   "id": "bbab039d",
   "metadata": {},
   "outputs": [],
   "source": [
    "logreg = LogisticRegression(random_state=10)\n",
    "naive = GaussianNB()\n",
    "SVM = svm.SVC(kernel='linear', random_state=10)\n",
    "tree = DecisionTreeClassifier(random_state=10)\n",
    "forest = RandomForestClassifier(random_state=10)"
   ]
  },
  {
   "cell_type": "code",
   "execution_count": 86,
   "id": "261bdbf4",
   "metadata": {},
   "outputs": [],
   "source": [
    "#Training models using KFold\n",
    "log_score = cross_val_score(logreg, pca_projection, labels, cv=kf)\n",
    "naive_score = cross_val_score(naive, pca_projection, labels, cv=kf)\n",
    "svm_score = cross_val_score(logreg, pca_projection, labels, cv=kf)\n",
    "tree_score = cross_val_score(tree, pca_projection, labels, cv=kf)\n",
    "forest_score = cross_val_score(forest, pca_projection, labels, cv=kf)"
   ]
  },
  {
   "cell_type": "code",
   "execution_count": 87,
   "id": "d04db6b6",
   "metadata": {},
   "outputs": [
    {
     "name": "stdout",
     "output_type": "stream",
     "text": [
      "\n",
      " Logistic Regression   :  0.782967032967033 \n",
      " Naive Bayes           :  0.7978021978021979 \n",
      " Support Vector Machine:  0.782967032967033 \n",
      " Decision Tree         :  0.7489010989010989 \n",
      " Random Forest         :  0.8142857142857143\n"
     ]
    }
   ],
   "source": [
    "print(\"\\n Logistic Regression   : \", np.mean(log_score), \n",
    "      \"\\n Naive Bayes           : \", np.mean(naive_score),\n",
    "      \"\\n Support Vector Machine: \", np.mean(svm_score), \n",
    "      \"\\n Decision Tree         : \", np.mean(tree_score), \n",
    "      \"\\n Random Forest         : \", np.mean(forest_score))"
   ]
  }
 ],
 "metadata": {
  "kernelspec": {
   "display_name": "Python 3",
   "language": "python",
   "name": "python3"
  },
  "language_info": {
   "codemirror_mode": {
    "name": "ipython",
    "version": 3
   },
   "file_extension": ".py",
   "mimetype": "text/x-python",
   "name": "python",
   "nbconvert_exporter": "python",
   "pygments_lexer": "ipython3",
   "version": "3.8.8"
  }
 },
 "nbformat": 4,
 "nbformat_minor": 5
}
